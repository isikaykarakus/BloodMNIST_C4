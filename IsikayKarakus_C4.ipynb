{
  "nbformat": 4,
  "nbformat_minor": 0,
  "metadata": {
    "colab": {
      "provenance": [],
      "authorship_tag": "ABX9TyOsbFAZDrbR1FVv1vJs6bXZ",
      "include_colab_link": true
    },
    "kernelspec": {
      "name": "python3",
      "display_name": "Python 3"
    },
    "language_info": {
      "name": "python"
    }
  },
  "cells": [
    {
      "cell_type": "markdown",
      "metadata": {
        "id": "view-in-github",
        "colab_type": "text"
      },
      "source": [
        "<a href=\"https://colab.research.google.com/github/isikaykarakus/BloodMNIST_C4/blob/main/IsikayKarakus_C4.ipynb\" target=\"_parent\"><img src=\"https://colab.research.google.com/assets/colab-badge.svg\" alt=\"Open In Colab\"/></a>"
      ]
    },
    {
      "cell_type": "code",
      "execution_count": null,
      "metadata": {
        "colab": {
          "base_uri": "https://localhost:8080/"
        },
        "id": "bfx3qhBP1p2c",
        "outputId": "b380abfe-21b3-44a3-b496-1c8704f75bb3"
      },
      "outputs": [
        {
          "output_type": "stream",
          "name": "stdout",
          "text": [
            "--2025-05-22 15:05:04--  https://zenodo.org/records/10519652/files/bloodmnist_64.npz?download=1\n",
            "Resolving zenodo.org (zenodo.org)... 188.185.45.92, 188.185.48.194, 188.185.43.25, ...\n",
            "Connecting to zenodo.org (zenodo.org)|188.185.45.92|:443... connected.\n",
            "HTTP request sent, awaiting response... 200 OK\n",
            "Length: 156251765 (149M) [application/octet-stream]\n",
            "Saving to: ‘bloodmnist_64.npz’\n",
            "\n",
            "bloodmnist_64.npz   100%[===================>] 149.01M  3.36MB/s    in 2m 57s  \n",
            "\n",
            "2025-05-22 15:08:02 (861 KB/s) - ‘bloodmnist_64.npz’ saved [156251765/156251765]\n",
            "\n",
            "--2025-05-22 15:08:02--  https://zenodo.org/records/10519652/files/bloodmnist_128.npz?download=1\n",
            "Resolving zenodo.org (zenodo.org)... 188.185.48.194, 188.185.45.92, 188.185.43.25, ...\n",
            "Connecting to zenodo.org (zenodo.org)|188.185.48.194|:443... connected.\n",
            "HTTP request sent, awaiting response... 200 OK\n",
            "Length: 569072780 (543M) [application/octet-stream]\n",
            "Saving to: ‘bloodmnist_128.npz’\n",
            "\n",
            "bloodmnist_128.npz   98%[==================> ] 535.62M   715KB/s    eta 11s    "
          ]
        }
      ],
      "source": [
        "# STEP 1: Download BloodMNIST 64x64 and 128x128 datasets from Zenodo\n",
        "!wget https://zenodo.org/records/10519652/files/bloodmnist_64.npz?download=1 -O bloodmnist_64.npz\n",
        "!wget https://zenodo.org/records/10519652/files/bloodmnist_128.npz?download=1 -O bloodmnist_128.npz"
      ]
    },
    {
      "cell_type": "code",
      "source": [
        "# STEP 2: Load and normalize both datasets\n",
        "import numpy as np\n",
        "\n",
        "data_64 = np.load(\"bloodmnist_64.npz\")\n",
        "data_128 = np.load(\"bloodmnist_128.npz\")\n",
        "\n",
        "# Normalize image values to [0, 1]\n",
        "X_train_64 = data_64['train_images'] / 255.0\n",
        "X_val_64   = data_64['val_images'] / 255.0\n",
        "X_test_64  = data_64['test_images'] / 255.0\n",
        "y_train_64 = data_64['train_labels']\n",
        "y_val_64   = data_64['val_labels']\n",
        "y_test_64  = data_64['test_labels']\n",
        "\n",
        "X_train_128 = data_128['train_images'] / 255.0\n",
        "X_val_128   = data_128['val_images'] / 255.0\n",
        "X_test_128  = data_128['test_images'] / 255.0\n",
        "y_train_128 = data_128['train_labels']\n",
        "y_val_128   = data_128['val_labels']\n",
        "y_test_128  = data_128['test_labels']\n",
        "\n",
        "print(\"Datasets Loaded:\")\n",
        "print(f\"64x64 → Train: {X_train_64.shape}, Val: {X_val_64.shape}, Test: {X_test_64.shape}\")\n",
        "print(f\"128x128 → Train: {X_train_128.shape}, Val: {X_val_128.shape}, Test: {X_test_128.shape}\")\n"
      ],
      "metadata": {
        "id": "0LuiQNUF3hDJ"
      },
      "execution_count": null,
      "outputs": []
    },
    {
      "cell_type": "code",
      "source": [
        "# STEP 3: Visualize a few samples from 64x64 and 128x128\n",
        "import matplotlib.pyplot as plt\n",
        "\n",
        "def show_samples(X, y, title=\"\"):\n",
        "    plt.figure(figsize=(10, 4))\n",
        "    for i in range(8):\n",
        "        plt.subplot(2, 4, i+1)\n",
        "        plt.imshow(X[i])\n",
        "        plt.title(f\"Label: {y[i]}\")\n",
        "        plt.axis('off')\n",
        "    plt.suptitle(title)\n",
        "    plt.tight_layout()\n",
        "    plt.show()\n",
        "\n",
        "show_samples(X_train_64, y_train_64, title=\"64x64 Training Samples\")\n",
        "show_samples(X_train_128, y_train_128, title=\"128x128 Training Samples\")\n"
      ],
      "metadata": {
        "id": "-e_LaxhDhn3P"
      },
      "execution_count": null,
      "outputs": []
    },
    {
      "cell_type": "code",
      "source": [],
      "metadata": {
        "id": "7_F38MbehtMu"
      },
      "execution_count": null,
      "outputs": []
    }
  ]
}